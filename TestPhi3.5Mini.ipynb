{
 "cells": [
  {
   "cell_type": "code",
   "execution_count": 2,
   "id": "df63b737-9a62-4d78-bc24-fd1c483073ef",
   "metadata": {},
   "outputs": [],
   "source": [
    "text = \"\"\"\n",
    "Overview of LangChain v0.2\n",
    "What’s new in LangChain?\n",
    "\n",
    "The following features have been added during the development of 0.1.x:\n",
    "\n",
    "    Better streaming support via the Event Streaming API.\n",
    "    Standardized tool calling support\n",
    "    A standardized interface for structuring output\n",
    "    @chain decorator to more easily create RunnableLambdas\n",
    "    https://python.langchain.com/docs/expression_language/how_to/inspect/\n",
    "    In Python, better async support for many core abstractions (thank you @cbornet!!)\n",
    "    Include response metadata in AIMessage to make it easy to access raw output from the underlying models\n",
    "    Tooling to visualize your runnables or your langgraph app\n",
    "    Interoperability of chat message histories across most providers\n",
    "    Over 20+ partner packages in python for popular integrations\n",
    "\n",
    "What’s coming to LangChain?\n",
    "\n",
    "    We’ve been working hard on langgraph. We will be building more capabilities on top of it and focusing on making it the go-to framework for agent architectures.\n",
    "    Vectorstores V2! We’ll be revisiting our vectorstores abstractions to help improve usability and reliability.\n",
    "    Better documentation and versioned docs!\n",
    "    We’re planning a breaking release (0.3.0) sometime between July-September to upgrade to full support of Pydantic 2, and will drop support for Pydantic 1 (including objects originating from the v1 namespace of Pydantic 2).\n",
    "\n",
    "What changed?\n",
    "\n",
    "Due to the rapidly evolving field, LangChain has also evolved rapidly.\n",
    "\n",
    "This document serves to outline at a high level what has changed and why.\n",
    "TLDR\n",
    "\n",
    "As of 0.2.0:\n",
    "\n",
    "    This release completes the work that we started with release 0.1.0 by removing the dependency of langchain on langchain-community.\n",
    "    langchain package no longer requires langchain-community . Instead langchain-community will now depend on langchain-core and langchain .\n",
    "    User code that still relies on deprecated imports from langchain will continue to work as long langchain_community is installed. These imports will start raising errors in release 0.4.x.\n",
    "\n",
    "As of 0.1.0:\n",
    "\n",
    "    langchain was split into the following component packages: langchain-core, langchain, langchain-community, langchain-[partner] to improve the usability of langchain code in production settings. You can read more about it on our blog.\n",
    "\n",
    "Ecosystem organization\n",
    "\n",
    "By the release of 0.1.0, LangChain had grown to a large ecosystem with many integrations and a large community.\n",
    "\n",
    "To improve the usability of LangChain in production, we split the single langchain package into multiple packages. This allowed us to create a good foundation architecture for the LangChain ecosystem and improve the usability of langchain in production.\n",
    "\n",
    "Here is the high level break down of the Eco-system:\n",
    "\n",
    "    langchain-core: contains core abstractions involving LangChain Runnables, tooling for observability, and base implementations of important abstractions (e.g., Chat Models).\n",
    "    langchain: contains generic code that is built using interfaces defined in langchain-core. This package is for code that generalizes well across different implementations of specific interfaces. For example, create_tool_calling_agent works across chat models that support tool calling capabilities.\n",
    "    langchain-community: community maintained 3rd party integrations. Contains integrations based on interfaces defined in langchain-core. Maintained by the LangChain community.\n",
    "    Partner Packages (e.g., langchain-[partner]): Partner packages are packages dedicated to especially popular integrations (e.g., langchain-openai, langchain-anthropic etc.). The dedicated packages generally benefit from better reliability and support.\n",
    "    langgraph: Build robust and stateful multi-actor applications with LLMs by modeling steps as edges and nodes in a graph.\n",
    "    langserve: Deploy LangChain chains as REST APIs.\n",
    "\n",
    "In the 0.1.0 release, langchain-community was retained as required a dependency of langchain.\n",
    "\n",
    "This allowed imports of vectorstores, chat models, and other integrations to continue working through langchain rather than forcing users to update all of their imports to langchain-community.\n",
    "\n",
    "For the 0.2.0 release, we’re removing the dependency of langchain on langchain-community. This is something we’ve been planning to do since the 0.1 release because we believe this is the right package architecture.\n",
    "\n",
    "Old imports will continue to work as long as langchain-community is installed. These imports will be removed in the 0.4.0 release.\n",
    "\n",
    "To understand why we think breaking the dependency of langchain on langchain-community is best we should understand what each package is meant to do.\n",
    "\n",
    "langchain is meant to contain high-level chains and agent architectures. The logic in these should be specified at the level of abstractions like ChatModel and Retriever, and should not be specific to any one integration. This has two main benefits:\n",
    "\n",
    "    langchain is fairly lightweight. Here is the full list of required dependencies (after the split)\n",
    "\n",
    "    python = \">=3.8.1,<4.0\"\n",
    "    langchain-core = \"^0.2.0\"\n",
    "    langchain-text-splitters = \">=0.0.1,<0.1\"\n",
    "    langsmith = \"^0.1.17\"\n",
    "    pydantic = \">=|=========================================================================================|\n",
    "1,<3\"\n",
    "    SQLAlchemy = \">=1.4,<3\"\n",
    "    requests = \"^2\"\n",
    "    PyYAML = \">=5.3\"\n",
    "    numpy = \"^1\"\n",
    "    aiohttp = \"^3.8.3\"\n",
    "    tenacity = \"^8.1.0\"\n",
    "    jsonpatch = \"^1.33\"\n",
    "\n",
    "    langchain chains/agents are largely integration-agnostic, which makes it easy to experiment with different integrations and future-proofs your code should there be issues with one specific integration.\n",
    "\n",
    "There is also a third less tangible benefit which is that being integration-agnostic forces us to find only those very generic abstractions and architectures which generalize well across integrations. Given how general the abilities of the foundational tech are, and how quickly the space is moving, having generic architectures is a good way of future-proofing your applications.\n",
    "\n",
    "langchain-community is intended to have all integration-specific components that are not yet being maintained in separate langchain-{partner} packages. Today this is still the majority of integrations and a lot of code. This code is primarily contributed by the community, while langchain is largely written by core maintainers. All of these integrations use optional dependencies and conditional imports, which prevents dependency bloat and conflicts but means compatible dependency versions are not made explicit. Given the volume of integrations in langchain-community and the speed at which integrations change, it’s very hard to follow semver versioning, and we currently don’t.\n",
    "\n",
    "All of which is to say that there’s no large benefits to langchain depending on langchain-community and some obvious downsides: the functionality in langchain should be integration agnostic anyways, langchain-community can’t be properly versioned, and depending on langchain-community increases the vulnerability surface of langchain.\n",
    "\n",
    "For more context about the reason for the organization please see our blog: https://blog.langchain.dev/langchain-v0-1-0/\"\"\""
   ]
  },
  {
   "cell_type": "code",
   "execution_count": 3,
   "id": "51d3cab9-e3fe-4e01-bc62-d578254bb6c3",
   "metadata": {},
   "outputs": [],
   "source": [
    "def clean_cuda():\n",
    "    torch.cuda.empty_cache()"
   ]
  },
  {
   "cell_type": "code",
   "execution_count": 2,
   "id": "22c8a737-f54e-4171-9bc7-1516b87cc924",
   "metadata": {},
   "outputs": [
    {
     "name": "stderr",
     "output_type": "stream",
     "text": [
      "`low_cpu_mem_usage` was None, now set to True since model is quantized.\n"
     ]
    },
    {
     "data": {
      "application/vnd.jupyter.widget-view+json": {
       "model_id": "2335b31d2efc4142a4a73a163d307358",
       "version_major": 2,
       "version_minor": 0
      },
      "text/plain": [
       "Loading checkpoint shards:   0%|          | 0/2 [00:00<?, ?it/s]"
      ]
     },
     "metadata": {},
     "output_type": "display_data"
    },
    {
     "name": "stderr",
     "output_type": "stream",
     "text": [
      "You shouldn't move a model that is dispatched using accelerate hooks.\n"
     ]
    }
   ],
   "source": [
    "import os, torch\n",
    "os.environ['CUDA_VISIBLE_DEVICES'] = str(5)\n",
    "\n",
    "from transformers import AutoTokenizer, AutoModelForCausalLM, pipeline, BitsAndBytesConfig\n",
    "\n",
    "model_id = \"microsoft/Phi-3.5-mini-instruct\"\n",
    "bnb_config = BitsAndBytesConfig(\n",
    "        load_in_4bit=True, \n",
    "        bnb_4bit_use_double_quant=True,\n",
    "            bnb_4bit_quant_type=\"nf4\",\n",
    "        bnb_4bit_compute_dtype=torch.bfloat16\n",
    "    )\n",
    "\n",
    "    # Tokenizer initialization\n",
    "    \n",
    "model = AutoModelForCausalLM.from_pretrained(\n",
    "    \tmodel_id, \n",
    "    \ttorch_dtype=\"auto\", \n",
    "    \ttrust_remote_code=True,\n",
    "        quantization_config=bnb_config\n",
    "\t)\n",
    "model.to(0)\n",
    "tokenizer = AutoTokenizer.from_pretrained(model_id)"
   ]
  },
  {
   "cell_type": "code",
   "execution_count": 9,
   "id": "ecd224c1-4dad-4be0-8609-36a4114b6dd4",
   "metadata": {},
   "outputs": [
    {
     "data": {
      "text/plain": [
       "'microsoft/Phi-3.5-mini-instruct'"
      ]
     },
     "execution_count": 9,
     "metadata": {},
     "output_type": "execute_result"
    }
   ],
   "source": []
  },
  {
   "cell_type": "code",
   "execution_count": 4,
   "id": "7cc246f4-5c0c-414e-ac19-98d0e659ee00",
   "metadata": {},
   "outputs": [
    {
     "name": "stderr",
     "output_type": "stream",
     "text": [
      "The `seen_tokens` attribute is deprecated and will be removed in v4.41. Use the `cache_position` model input instead.\n",
      "You are not running the flash-attention implementation, expect numerical differences.\n"
     ]
    }
   ],
   "source": [
    "system_command = \"You are a summarizer.\"\n",
    "user_command = text\n",
    "\n",
    "messages = [{\"role\": \"system\", \"content\": system_command},\n",
    "\t\t        {\"role\": \"user\", \"content\": user_command}]\n",
    "\n",
    "generation_args = {\n",
    "        \"use_cache\": True,\n",
    "        \"max_new_tokens\": 5000,\n",
    "        #\"temperature\": 0.7,\n",
    "        \"repetition_penalty\": 1.1,\n",
    "        #\"do_sample\": True  # Enable sampling to use temperature\n",
    "    }\n",
    "pipe = pipeline(\n",
    "\t\t\"text-generation\",\n",
    "\t\tmodel=model,\n",
    "\t\ttokenizer=tokenizer,\n",
    "\t)\n",
    "\t    \n",
    "output = pipe(messages, **generation_args)"
   ]
  },
  {
   "cell_type": "code",
   "execution_count": 5,
   "id": "c2cad9b6-64f5-4e26-a80b-b3e0037f9af0",
   "metadata": {},
   "outputs": [
    {
     "name": "stdout",
     "output_type": "stream",
     "text": [
      " **Overview of LangChain v0.2**\n",
      "\n",
      "With the introduction of LangChain v0.2, several key improvements were implemented aimed at enhancing user experience, streamlining operations, and preparing the platform's infrastructure for upcoming developments. Below is an overview highlighting both existing enhancements and forthcoming updates within the software suite.\n",
      "\n",
      "### New Features Added During Development of Previous Versions:\n",
      "\n",
      "1. Enhanced event handling capability provided by improved `Event Streaming API`.\n",
      "2. Established uniformity in tools invocation procedures (`standardized tool calling`).\n",
      "3. Created consistent structures for outputs (`a standardized interface for structuring output`).\n",
      "4. Introduced `@chain` syntax simplifying creation of executable lambda functions (`Runnable Lambdas`).\n",
      "5. Improved introspection methods available directly in Python language constructors (`https://python.langchain.com/docs/expression_language/how_to/inspect/` link included).\n",
      "6. Augmentation of asynchronous programming paradigms due to contributions such as cbornet (@cbornet), leading to smoother execution flow.\n",
      "7. Capabilities allowing inclusion of detailed responses alongside messages sent out by artificial intelligence systems (`Include response metadata in AIMessage`).\n",
      "8. Visualization options introduced for inspecting chain workflows (`Tooling to visualize your runnables`) along with application design patterns (`your langgraph apps`).\n",
      "9. Cross-provider compatibility achieved among messaging history records ensuring seamless communication experiences (`Interoperability of chat message histories`).\n",
      "10. Expansion beyond twenty partnerships established specifically targeting widespread adoption scenarios (`over 20+ partner packages...for popular integrations`).\n",
      "\n",
      "### Upcoming Developments Expected With Release Version 0.3.0:\n",
      "\n",
      "1. Further advancement planned for 'langgraph', setting its stage as central technology supporting complex agents interfacing with Large Language Models (LLMs).\n",
      "2. Revisition and refinement process underway for vectors stores known as `'VectorStores'` anticipated to boost ease of usage and system resilience ('V2').\n",
      "3. Committed effort towards comprehensive guidance material including updated documents reflective of current standards (\"Better documentation\").\n",
      "4. Anticipate significant restructure occurring around Phantom dBase; transition expected toward complete embracement of newer specification set released after initial phase completion - namely `\"Pydantic 2\"` without retaining older ones linked backwardly to earlier releases.\n",
      "\n",
      "### Key Transition Highlights From Prior State To Present Configuration:\n",
      "\n",
      "A notable shift occurred whereby previous dependence upon `__init__.py`, previously located inside subdirectories named `_version`, got eliminated post-release 0.1.0. Consequently, direct import statements referencing modules formerly contained within said directory became obsolete unless explicitly stated otherwise. Specifically regarding legacy utilities tied to old module namespaces—such as importing entities originally sourced from `langchain-community`'s domain—this practice persists until subsequent major iteration milestones signal changes requiring adjustments elsewhere in dependent projects. It must be noted though, once past certain threshold points marked by later iterations, particularly indicated here as point `.4.0`, alterations would become mandatory if continued operation hinges on prior installations.\n",
      "\n",
      "#### Summary TLDR:\n",
      "\n",
      "From the perspective of evolutionary progressiveness inherent to technological platforms operating dynamically environments, LangChain exhibits continuous adaptation reflected throughout various stages culminating presently at verison mark '.2'. Noteworthy strides include dissociation from former communal repository prerequisites thereby fostering greater autonomy whilst preserving operative continuance contingent upon extant installation conditions. Such transitions underscore commitment to maturation trajectory geared towards optimizing end-user engagement coupled with fortified technical scaffoldings poised against impending expansions delineated henceforward.\n",
      "\n",
      "---\n",
      "*Note: While attempting to encapsulate extensive information succinctness may result in condensed descriptions necessitating further exploration outside presented textual summary.*\n"
     ]
    }
   ],
   "source": [
    "print(output[-1]['generated_text'][-1]['content'])"
   ]
  },
  {
   "cell_type": "code",
   "execution_count": 6,
   "id": "43f18f89-7521-43d1-bd5d-e20e898a7526",
   "metadata": {},
   "outputs": [
    {
     "data": {
      "text/markdown": [
       " **Overview of LangChain v0.2**\n",
       "\n",
       "With the introduction of LangChain v0.2, several key improvements were implemented aimed at enhancing user experience, streamlining operations, and preparing the platform's infrastructure for upcoming developments. Below is an overview highlighting both existing enhancements and forthcoming updates within the software suite.\n",
       "\n",
       "### New Features Added During Development of Previous Versions:\n",
       "\n",
       "1. Enhanced event handling capability provided by improved `Event Streaming API`.\n",
       "2. Established uniformity in tools invocation procedures (`standardized tool calling`).\n",
       "3. Created consistent structures for outputs (`a standardized interface for structuring output`).\n",
       "4. Introduced `@chain` syntax simplifying creation of executable lambda functions (`Runnable Lambdas`).\n",
       "5. Improved introspection methods available directly in Python language constructors (`https://python.langchain.com/docs/expression_language/how_to/inspect/` link included).\n",
       "6. Augmentation of asynchronous programming paradigms due to contributions such as cbornet (@cbornet), leading to smoother execution flow.\n",
       "7. Capabilities allowing inclusion of detailed responses alongside messages sent out by artificial intelligence systems (`Include response metadata in AIMessage`).\n",
       "8. Visualization options introduced for inspecting chain workflows (`Tooling to visualize your runnables`) along with application design patterns (`your langgraph apps`).\n",
       "9. Cross-provider compatibility achieved among messaging history records ensuring seamless communication experiences (`Interoperability of chat message histories`).\n",
       "10. Expansion beyond twenty partnerships established specifically targeting widespread adoption scenarios (`over 20+ partner packages...for popular integrations`).\n",
       "\n",
       "### Upcoming Developments Expected With Release Version 0.3.0:\n",
       "\n",
       "1. Further advancement planned for 'langgraph', setting its stage as central technology supporting complex agents interfacing with Large Language Models (LLMs).\n",
       "2. Revisition and refinement process underway for vectors stores known as `'VectorStores'` anticipated to boost ease of usage and system resilience ('V2').\n",
       "3. Committed effort towards comprehensive guidance material including updated documents reflective of current standards (\"Better documentation\").\n",
       "4. Anticipate significant restructure occurring around Phantom dBase; transition expected toward complete embracement of newer specification set released after initial phase completion - namely `\"Pydantic 2\"` without retaining older ones linked backwardly to earlier releases.\n",
       "\n",
       "### Key Transition Highlights From Prior State To Present Configuration:\n",
       "\n",
       "A notable shift occurred whereby previous dependence upon `__init__.py`, previously located inside subdirectories named `_version`, got eliminated post-release 0.1.0. Consequently, direct import statements referencing modules formerly contained within said directory became obsolete unless explicitly stated otherwise. Specifically regarding legacy utilities tied to old module namespaces—such as importing entities originally sourced from `langchain-community`'s domain—this practice persists until subsequent major iteration milestones signal changes requiring adjustments elsewhere in dependent projects. It must be noted though, once past certain threshold points marked by later iterations, particularly indicated here as point `.4.0`, alterations would become mandatory if continued operation hinges on prior installations.\n",
       "\n",
       "#### Summary TLDR:\n",
       "\n",
       "From the perspective of evolutionary progressiveness inherent to technological platforms operating dynamically environments, LangChain exhibits continuous adaptation reflected throughout various stages culminating presently at verison mark '.2'. Noteworthy strides include dissociation from former communal repository prerequisites thereby fostering greater autonomy whilst preserving operative continuance contingent upon extant installation conditions. Such transitions underscore commitment to maturation trajectory geared towards optimizing end-user engagement coupled with fortified technical scaffoldings poised against impending expansions delineated henceforward.\n",
       "\n",
       "---\n",
       "*Note: While attempting to encapsulate extensive information succinctness may result in condensed descriptions necessitating further exploration outside presented textual summary.*"
      ],
      "text/plain": [
       "<IPython.core.display.Markdown object>"
      ]
     },
     "metadata": {},
     "output_type": "display_data"
    }
   ],
   "source": [
    "from IPython.display import Markdown, display\n",
    "\n",
    "display(Markdown((output[-1]['generated_text'][-1]['content'])))"
   ]
  },
  {
   "cell_type": "code",
   "execution_count": 1,
   "id": "b61b03af-6539-4264-a45e-83f8235e26cc",
   "metadata": {},
   "outputs": [
    {
     "ename": "SyntaxError",
     "evalue": "invalid syntax (1239779345.py, line 1)",
     "output_type": "error",
     "traceback": [
      "\u001b[0;36m  Cell \u001b[0;32mIn[1], line 1\u001b[0;36m\u001b[0m\n\u001b[0;31m    as\u001b[0m\n\u001b[0m    ^\u001b[0m\n\u001b[0;31mSyntaxError\u001b[0m\u001b[0;31m:\u001b[0m invalid syntax\n"
     ]
    }
   ],
   "source": [
    "as"
   ]
  },
  {
   "cell_type": "code",
   "execution_count": null,
   "id": "6e8099eb-68d8-410e-94ab-8f9436759a95",
   "metadata": {},
   "outputs": [],
   "source": []
  }
 ],
 "metadata": {
  "kernelspec": {
   "display_name": "summarize_env",
   "language": "python",
   "name": "summarize_env"
  },
  "language_info": {
   "codemirror_mode": {
    "name": "ipython",
    "version": 3
   },
   "file_extension": ".py",
   "mimetype": "text/x-python",
   "name": "python",
   "nbconvert_exporter": "python",
   "pygments_lexer": "ipython3",
   "version": "3.11.8"
  }
 },
 "nbformat": 4,
 "nbformat_minor": 5
}
